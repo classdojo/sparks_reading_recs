{
 "cells": [
  {
   "cell_type": "code",
   "execution_count": 1,
   "metadata": {},
   "outputs": [],
   "source": [
    "import sqlite3\n",
    "\n",
    "# Create a connection to the database (or create it if it doesn't exist)\n",
    "conn = sqlite3.connect(\"sparky_recs.db\")"
   ]
  },
  {
   "cell_type": "code",
   "execution_count": 2,
   "metadata": {},
   "outputs": [],
   "source": [
    "cursor = conn.cursor() "
   ]
  },
  {
   "cell_type": "code",
   "execution_count": 3,
   "metadata": {},
   "outputs": [
    {
     "name": "stdout",
     "output_type": "stream",
     "text": [
      "[('sqlite_sequence',), ('Profiles',), ('Books',), ('ReadBooks',)]\n"
     ]
    }
   ],
   "source": [
    "cursor.execute(\"SELECT name FROM sqlite_master WHERE type='table';\")\n",
    "print(cursor.fetchall())"
   ]
  },
  {
   "cell_type": "code",
   "execution_count": 5,
   "metadata": {},
   "outputs": [
    {
     "name": "stdout",
     "output_type": "stream",
     "text": [
      "[('ma-TvidryY8C', 'I Want My Hat Back', 'Jon Klassen', 'http://books.google.com/books/content?id=ma-TvidryY8C&printsec=frontcover&img=1&zoom=5&edge=curl&source=gbs_api'), ('wrOQLV6xB-wC', \"Harry Potter and the Sorcerer's Stone\", 'J.K. Rowling', 'http://books.google.com/books/content?id=wrOQLV6xB-wC&printsec=frontcover&img=1&zoom=5&edge=curl&source=gbs_api'), ('b3TcMS38J-wC', 'The Giving Tree', 'Shel Silverstein', 'http://books.google.com/books/content?id=b3TcMS38J-wC&printsec=frontcover&img=1&zoom=5&source=gbs_api'), ('U7eoDwAAQBAJ', 'Where the Sidewalk Ends', 'Shel Silverstein', 'http://books.google.com/books/content?id=U7eoDwAAQBAJ&printsec=frontcover&img=1&zoom=5&edge=curl&source=gbs_api'), ('X1T6qlyzMC0C', 'A Series of Unfortunate Events: Lemony Snicket', 'Lemony Snicket', 'http://books.google.com/books/content?id=X1T6qlyzMC0C&printsec=frontcover&img=1&zoom=5&edge=curl&source=gbs_api'), ('dJNoDQAAQBAJ', 'Goodnight Moon', 'Margaret Wise Brown', 'http://books.google.com/books/content?id=dJNoDQAAQBAJ&printsec=frontcover&img=1&zoom=5&edge=curl&source=gbs_api'), ('ZK7xAwAAQBAJ', 'Green Eggs and Ham', 'Dr. Seuss', 'http://books.google.com/books/content?id=ZK7xAwAAQBAJ&printsec=frontcover&img=1&zoom=5&edge=curl&source=gbs_api'), ('-6_xAwAAQBAJ', 'The Lorax', 'Dr. Seuss', 'http://books.google.com/books/content?id=-6_xAwAAQBAJ&printsec=frontcover&img=1&zoom=5&edge=curl&source=gbs_api')]\n"
     ]
    }
   ],
   "source": [
    "cursor.execute(\"SELECT * FROM Books\")\n",
    "print(cursor.fetchall())"
   ]
  },
  {
   "cell_type": "code",
   "execution_count": 6,
   "metadata": {},
   "outputs": [],
   "source": [
    "cursor.close()\n",
    "conn.close()"
   ]
  },
  {
   "cell_type": "code",
   "execution_count": null,
   "metadata": {},
   "outputs": [],
   "source": []
  }
 ],
 "metadata": {
  "kernelspec": {
   "display_name": "redshift",
   "language": "python",
   "name": "python3"
  },
  "language_info": {
   "codemirror_mode": {
    "name": "ipython",
    "version": 3
   },
   "file_extension": ".py",
   "mimetype": "text/x-python",
   "name": "python",
   "nbconvert_exporter": "python",
   "pygments_lexer": "ipython3",
   "version": "3.13.3"
  }
 },
 "nbformat": 4,
 "nbformat_minor": 2
}
